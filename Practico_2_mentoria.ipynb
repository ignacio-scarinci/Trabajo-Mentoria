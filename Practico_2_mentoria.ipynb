{
 "cells": [
  {
   "cell_type": "code",
   "execution_count": 2,
   "metadata": {},
   "outputs": [],
   "source": [
    "import os\n",
    "import imageio\n",
    "import numpy as np\n",
    "import pandas as pd\n",
    "import seaborn as sns\n",
    "import matplotlib.pyplot as plt\n",
    "from mpl_toolkits import mplot3d\n",
    "from scipy import stats, signal\n",
    "import matplotlib.patches as mpatches\n",
    "from matplotlib.collections import PatchCollection\n",
    "import seaborn as sns\n",
    "import cv2"
   ]
  },
  {
   "cell_type": "markdown",
   "metadata": {},
   "source": [
    "## Lectura de los datasets"
   ]
  },
  {
   "cell_type": "code",
   "execution_count": 54,
   "metadata": {},
   "outputs": [],
   "source": [
    "def abrir_imagenes(path):\n",
    "    imagen_ant_em=np.flipud(imageio.imread(path + 'ANT_EM.dcm'))\n",
    "    imagen_ant_sc=np.flipud(imageio.imread(path + 'ANT_SC.dcm'))\n",
    "    imagen_pos_em=np.flipud(imageio.imread(path + 'POST_EM.dcm'))\n",
    "    imagen_pos_sc=np.flipud(imageio.imread(path + 'POST_SC.dcm'))\n",
    "    meta=imagen_ant_em.meta\n",
    "    imagen=np.stack((imagen_ant_em,imagen_ant_sc,imagen_pos_em,imagen_pos_sc))\n",
    "    return imagen, meta"
   ]
  },
  {
   "cell_type": "code",
   "execution_count": 55,
   "metadata": {},
   "outputs": [],
   "source": [
    "#path_dicom_1='./DISTINTOSTIEMPOS/1h/'\n",
    "#path_dicom_15='./DISTINTOSTIEMPOS/15h/'\n",
    "#path_dicom_40='./DISTINTOSTIEMPOS/40h/'\n",
    "#path_dicom_64='./DISTINTOSTIEMPOS/64h/'\n",
    "path_dicom_1='Data set/distintos_tiempos/1h/'\n",
    "path_dicom_15='Data set/distintos_tiempos/15h/'\n",
    "path_dicom_40='Data set/distintos_tiempos/40h/'\n",
    "path_dicom_64='Data set/distintos_tiempos/64h/'"
   ]
  },
  {
   "cell_type": "code",
   "execution_count": 56,
   "metadata": {},
   "outputs": [],
   "source": [
    "imagen_1, meta_1=abrir_imagenes(path_dicom_1)\n",
    "imagen_15, meta_15=abrir_imagenes(path_dicom_15)\n",
    "imagen_40, meta_40=abrir_imagenes(path_dicom_40)\n",
    "imagen_64, meta_64=abrir_imagenes(path_dicom_64)\n",
    "pos=['ANT_EM','ANT_SC','POST_EM','POST_SC']"
   ]
  },
  {
   "cell_type": "markdown",
   "metadata": {},
   "source": [
    "## 1. Defina la elección del dataset y describa el mismo a partir de un análisis exploratorio que considere pertinente"
   ]
  },
  {
   "cell_type": "markdown",
   "metadata": {},
   "source": [
    "### Se selecciona un dataset compuesto por imágenes de cámara gama tomadas a 4 tiempos (1h, 15h, 40h, 64h) para 2 posiciones (anterior y posterior) y EM y SC"
   ]
  },
  {
   "cell_type": "markdown",
   "metadata": {},
   "source": [
    "Toda la información de las imagenes se encuentran almacenada en en la variable meta_x (x=1,15,40,64). Esta variable almacena los metadatos de la imágen original DICOM."
   ]
  },
  {
   "cell_type": "code",
   "execution_count": 57,
   "metadata": {},
   "outputs": [
    {
     "data": {
      "text/plain": [
       "Dict([('TransferSyntaxUID', '1.2.840.10008.1.2.1'),\n",
       "      ('SOPClassUID', '1.2.840.10008.5.1.4.1.1.20'),\n",
       "      ('SOPInstanceUID', '1.2.840.113619.2.170.1.2.0.13072009150430562.18713'),\n",
       "      ('StudyDate', '20090713'),\n",
       "      ('SeriesDate', '20090713'),\n",
       "      ('AcquisitionDate', '20090713'),\n",
       "      ('ContentDate', '20090713'),\n",
       "      ('StudyTime', '103711.00 '),\n",
       "      ('SeriesTime', '170440.00 '),\n",
       "      ('AcquisitionTime', '170440.00 '),\n",
       "      ('ContentTime', '170440.00 '),\n",
       "      ('Modality', 'NM'),\n",
       "      ('Manufacturer', 'GE MEDICAL SYSTEMS'),\n",
       "      ('InstitutionName', ''),\n",
       "      ('StudyDescription', 'User&Lu177&Dosimetria 177Lu'),\n",
       "      ('SeriesDescription', 'WB 1 ore'),\n",
       "      ('PatientName', 'TI'),\n",
       "      ('PatientID', 'TELu1772800190DOSIM'),\n",
       "      ('PatientBirthDate', ''),\n",
       "      ('PatientSex', 'F '),\n",
       "      ('PatientSize', 0.0),\n",
       "      ('PatientWeight', 0.0),\n",
       "      ('StudyInstanceUID',\n",
       "       '1.2.840.113619.2.170.1.2.0.13072009081643828.4265'),\n",
       "      ('SeriesInstanceUID',\n",
       "       '1.2.840.113619.2.170.1.2.0.13072009150431796.18677'),\n",
       "      ('SeriesNumber', 1),\n",
       "      ('InstanceNumber', ''),\n",
       "      ('SamplesPerPixel', 1),\n",
       "      ('NumberOfFrames', 1),\n",
       "      ('Rows', 1024),\n",
       "      ('Columns', 256),\n",
       "      ('PixelSpacing', (2.20903, 2.20903)),\n",
       "      ('BitsAllocated', 16),\n",
       "      ('BitsStored', 16),\n",
       "      ('HighBit', 15),\n",
       "      ('PixelRepresentation', 0),\n",
       "      ('PixelData',\n",
       "       b'Data converted to numpy array, raw data removed to preserve memory'),\n",
       "      ('shape', (1024, 256)),\n",
       "      ('sampling', (2.20903, 2.20903))])"
      ]
     },
     "execution_count": 57,
     "metadata": {},
     "output_type": "execute_result"
    }
   ],
   "source": [
    "meta_1"
   ]
  },
  {
   "cell_type": "code",
   "execution_count": 58,
   "metadata": {},
   "outputs": [
    {
     "name": "stdout",
     "output_type": "stream",
     "text": [
      "El estudio se realizo el 13 del 07 del 2009\n",
      "A las 17 : 04 : 40\n"
     ]
    }
   ],
   "source": [
    "print ('El estudio se realizo el' ,meta_1['StudyDate'][6:8],'del',meta_1['StudyDate'][4:6],'del',meta_1['StudyDate'][0:4])\n",
    "print ('A las',meta_1['SeriesTime'][0:2],':',meta_1['SeriesTime'][2:4],':',meta_1['SeriesTime'][4:6])"
   ]
  },
  {
   "cell_type": "code",
   "execution_count": 59,
   "metadata": {},
   "outputs": [
    {
     "name": "stdout",
     "output_type": "stream",
     "text": [
      "El estudio se realizo el 14 del 07 del 2009\n",
      "A las 09 : 07 : 12\n"
     ]
    }
   ],
   "source": [
    "print ('El estudio se realizo el' ,meta_15['SeriesDate'][6:8],'del',meta_15['SeriesDate'][4:6],'del',meta_15['SeriesDate'][0:4])\n",
    "print ('A las',meta_15['SeriesTime'][0:2],':',meta_15['SeriesTime'][2:4],':',meta_15['SeriesTime'][4:6])"
   ]
  },
  {
   "cell_type": "code",
   "execution_count": 60,
   "metadata": {},
   "outputs": [
    {
     "name": "stdout",
     "output_type": "stream",
     "text": [
      "El estudio se realizo el 15 del 07 del 2009\n",
      "A las 08 : 50 : 06\n"
     ]
    }
   ],
   "source": [
    "print ('El estudio se realizo el' ,meta_40['SeriesDate'][6:8],'del',meta_40['SeriesDate'][4:6],'del',meta_40['SeriesDate'][0:4])\n",
    "print ('A las',meta_40['SeriesTime'][0:2],':',meta_40['SeriesTime'][2:4],':',meta_40['SeriesTime'][4:6])"
   ]
  },
  {
   "cell_type": "code",
   "execution_count": 61,
   "metadata": {},
   "outputs": [
    {
     "name": "stdout",
     "output_type": "stream",
     "text": [
      "El estudio se realizo el 16 del 07 del 2009\n",
      "A las 08 : 04 : 21\n"
     ]
    }
   ],
   "source": [
    "print ('El estudio se realizo el' ,meta_64['SeriesDate'][6:8],'del',meta_64['SeriesDate'][4:6],'del',meta_64['SeriesDate'][0:4])\n",
    "print ('A las',meta_64['SeriesTime'][0:2],':',meta_64['SeriesTime'][2:4],':',meta_64['SeriesTime'][4:6])"
   ]
  },
  {
   "cell_type": "code",
   "execution_count": 62,
   "metadata": {},
   "outputs": [
    {
     "name": "stdout",
     "output_type": "stream",
     "text": [
      "La imágen tiene 256 pixels de ancho y 1024 pixeles de largo\n"
     ]
    }
   ],
   "source": [
    "print ('La imágen tiene', meta_1['Columns'], 'pixels de ancho y',meta_1['Rows'],'pixeles de largo')"
   ]
  },
  {
   "cell_type": "code",
   "execution_count": 63,
   "metadata": {},
   "outputs": [
    {
     "name": "stdout",
     "output_type": "stream",
     "text": [
      "El tamaño de los pixeles es: 2.20903 x 2.20903 mm2\n"
     ]
    }
   ],
   "source": [
    "print ('El tamaño de los pixeles es:',meta_1['PixelSpacing'][0],'x',meta_1['PixelSpacing'][0],'mm2')"
   ]
  },
  {
   "cell_type": "code",
   "execution_count": null,
   "metadata": {},
   "outputs": [],
   "source": []
  },
  {
   "cell_type": "markdown",
   "metadata": {},
   "source": [
    "## 2. Visualice los datos e identifique posibles clústers por diferentes métodos de clustering\n"
   ]
  },
  {
   "cell_type": "code",
   "execution_count": 1,
   "metadata": {},
   "outputs": [],
   "source": [
    "import pickle"
   ]
  },
  {
   "cell_type": "code",
   "execution_count": 3,
   "metadata": {},
   "outputs": [
    {
     "ename": "TypeError",
     "evalue": "file must have 'read' and 'readline' attributes",
     "output_type": "error",
     "traceback": [
      "\u001b[0;31m---------------------------------------------------------------------------\u001b[0m",
      "\u001b[0;31mTypeError\u001b[0m                                 Traceback (most recent call last)",
      "\u001b[0;32m<ipython-input-3-37b996848392>\u001b[0m in \u001b[0;36m<module>\u001b[0;34m\u001b[0m\n\u001b[0;32m----> 1\u001b[0;31m \u001b[0mpickle\u001b[0m\u001b[0;34m.\u001b[0m\u001b[0mload\u001b[0m\u001b[0;34m(\u001b[0m\u001b[0;34m\"data.pkl\"\u001b[0m\u001b[0;34m)\u001b[0m\u001b[0;34m\u001b[0m\u001b[0;34m\u001b[0m\u001b[0m\n\u001b[0m",
      "\u001b[0;31mTypeError\u001b[0m: file must have 'read' and 'readline' attributes"
     ]
    }
   ],
   "source": [
    "pickle.load(\"data.pkl\")"
   ]
  },
  {
   "cell_type": "code",
   "execution_count": 4,
   "metadata": {},
   "outputs": [],
   "source": [
    "pkl_file = open('data.pkl', 'rb')"
   ]
  },
  {
   "cell_type": "code",
   "execution_count": 5,
   "metadata": {},
   "outputs": [],
   "source": [
    "data1 = pickle.load(pkl_file)"
   ]
  },
  {
   "cell_type": "code",
   "execution_count": 6,
   "metadata": {},
   "outputs": [
    {
     "data": {
      "text/plain": [
       "array([[0, 0, 0, ..., 0, 0, 0],\n",
       "       [0, 0, 0, ..., 0, 0, 0],\n",
       "       [0, 0, 0, ..., 0, 0, 0],\n",
       "       ...,\n",
       "       [0, 0, 0, ..., 0, 0, 0],\n",
       "       [0, 0, 0, ..., 0, 0, 0],\n",
       "       [0, 0, 0, ..., 0, 0, 0]], dtype=uint8)"
      ]
     },
     "execution_count": 6,
     "metadata": {},
     "output_type": "execute_result"
    }
   ],
   "source": [
    "data1"
   ]
  },
  {
   "cell_type": "code",
   "execution_count": null,
   "metadata": {},
   "outputs": [],
   "source": []
  }
 ],
 "metadata": {
  "kernelspec": {
   "display_name": "Python 3",
   "language": "python",
   "name": "python3"
  },
  "language_info": {
   "codemirror_mode": {
    "name": "ipython",
    "version": 3
   },
   "file_extension": ".py",
   "mimetype": "text/x-python",
   "name": "python",
   "nbconvert_exporter": "python",
   "pygments_lexer": "ipython3",
   "version": "3.6.8"
  }
 },
 "nbformat": 4,
 "nbformat_minor": 2
}
